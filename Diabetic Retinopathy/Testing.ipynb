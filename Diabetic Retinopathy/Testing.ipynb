{
 "cells": [
  {
   "cell_type": "code",
   "execution_count": 1,
   "id": "f31532db",
   "metadata": {},
   "outputs": [],
   "source": [
    "import cv2\n",
    "import numpy as np\n",
    "from tensorflow.keras.models import load_model"
   ]
  },
  {
   "cell_type": "code",
   "execution_count": 10,
   "id": "ed444684",
   "metadata": {},
   "outputs": [],
   "source": [
    "# Load the trained model\n",
    "model = load_model('D:/School/Btech Project/archive/colored_images/model/model.h5')"
   ]
  },
  {
   "cell_type": "code",
   "execution_count": 11,
   "id": "bfe94e47",
   "metadata": {},
   "outputs": [],
   "source": [
    "# Load and preprocess a single image for prediction\n",
    "def load_and_preprocess_image(image_path, target_size):\n",
    "    img = cv2.imread(image_path)\n",
    "    img = cv2.resize(img, target_size)\n",
    "    img = img / 255.0  # Normalize the image to [0, 1]\n",
    "    img = np.expand_dims(img, axis=0)  # Add batch dimension\n",
    "    return img\n"
   ]
  },
  {
   "cell_type": "code",
   "execution_count": 18,
   "id": "086cac85",
   "metadata": {},
   "outputs": [],
   "source": [
    "# Path to the single image you want to test\n",
    "image_path = 'D:/School/Btech Project/archive/test/mild.png'"
   ]
  },
  {
   "cell_type": "code",
   "execution_count": 19,
   "id": "62578461",
   "metadata": {},
   "outputs": [],
   "source": [
    "# Define the target size (should match the input size of your model)\n",
    "target_size = (128, 128)"
   ]
  },
  {
   "cell_type": "code",
   "execution_count": 20,
   "id": "f5ae9d66",
   "metadata": {},
   "outputs": [],
   "source": [
    "# Load and preprocess the single image\n",
    "preprocessed_image = load_and_preprocess_image(image_path, target_size)"
   ]
  },
  {
   "cell_type": "code",
   "execution_count": 21,
   "id": "beb0020a",
   "metadata": {},
   "outputs": [
    {
     "name": "stdout",
     "output_type": "stream",
     "text": [
      "1/1 [==============================] - 0s 20ms/step\n"
     ]
    }
   ],
   "source": [
    "# Perform prediction\n",
    "predictions = model.predict(preprocessed_image)"
   ]
  },
  {
   "cell_type": "code",
   "execution_count": 22,
   "id": "6cd69254",
   "metadata": {},
   "outputs": [],
   "source": [
    "# Get the predicted class (index with the highest probability)\n",
    "predicted_class = np.argmax(predictions, axis=1)"
   ]
  },
  {
   "cell_type": "code",
   "execution_count": 23,
   "id": "38f8acba",
   "metadata": {},
   "outputs": [
    {
     "name": "stdout",
     "output_type": "stream",
     "text": [
      "Predicted class: 2\n"
     ]
    }
   ],
   "source": [
    "# Print the predicted class\n",
    "print(f'Predicted class: {predicted_class[0]}')"
   ]
  },
  {
   "cell_type": "code",
   "execution_count": null,
   "id": "c253079a",
   "metadata": {},
   "outputs": [],
   "source": []
  }
 ],
 "metadata": {
  "kernelspec": {
   "display_name": "Python 3 (ipykernel)",
   "language": "python",
   "name": "python3"
  },
  "language_info": {
   "codemirror_mode": {
    "name": "ipython",
    "version": 3
   },
   "file_extension": ".py",
   "mimetype": "text/x-python",
   "name": "python",
   "nbconvert_exporter": "python",
   "pygments_lexer": "ipython3",
   "version": "3.10.0"
  }
 },
 "nbformat": 4,
 "nbformat_minor": 5
}
