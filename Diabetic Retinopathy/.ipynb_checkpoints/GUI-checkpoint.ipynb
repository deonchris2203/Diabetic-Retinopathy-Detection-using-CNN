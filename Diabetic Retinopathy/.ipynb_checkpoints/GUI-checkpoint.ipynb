{
 "cells": [
  {
   "cell_type": "code",
   "execution_count": 3,
   "id": "a2d0e67e",
   "metadata": {},
   "outputs": [],
   "source": [
    "import tkinter as tk\n",
    "from tkinter import messagebox\n",
    "from PIL import Image, ImageTk"
   ]
  },
  {
   "cell_type": "code",
   "execution_count": 15,
   "id": "21bb6824",
   "metadata": {},
   "outputs": [],
   "source": [
    "#BUTTON PROP  \n",
    "b1 = Button(top,text = \"Import Images\",activeforeground = \"red\",activebackground = \"pink\",pady=10, height=1, width=15)  \n",
    "  \n",
    "b2 = Button(top, text = \"Process\", activeforeground = \"blue\",activebackground = \"pink\",pady=10, height=1, width=15)  \n",
    "  \n",
    "b3 = Button(top, text = \"Clear\", activeforeground = \"green\",activebackground = \"pink\",pady = 10, height=1, width=15)  \n",
    "  \n",
    "b4 = Button(top, text = \"Show Result\", activeforeground = \"yellow\",activebackground = \"pink\",pady = 10, height=1, width=15)  \n",
    "\n",
    "\n",
    "#BUTTON PACKING \n",
    "b1.pack()   \n",
    "b2.pack()  \n",
    "b3.pack()  \n",
    "b4.pack()  \n"
   ]
  },
  {
   "cell_type": "code",
   "execution_count": null,
   "id": "ea8d47ba",
   "metadata": {},
   "outputs": [],
   "source": []
  },
  {
   "cell_type": "code",
   "execution_count": 10,
   "id": "5b53040b",
   "metadata": {},
   "outputs": [
    {
     "name": "stdout",
     "output_type": "stream",
     "text": [
      "Button clicked!\n",
      "Button clicked!\n",
      "Button clicked!\n",
      "Button clicked!\n",
      "Button clicked!\n",
      "Button clicked!\n"
     ]
    }
   ],
   "source": [
    "import tkinter as tk\n",
    "\n",
    "def button_click():\n",
    "    print(\"Button clicked!\")\n",
    "\n",
    "# Create the main window\n",
    "root = tk.Tk()\n",
    "root.title(\"Simple Tkinter GUI\")\n",
    "\n",
    "# Set the initial size of the window\n",
    "root.geometry(\"820x470\")\n",
    "\n",
    "# Disable resizing\n",
    "root.resizable(False, False)\n",
    "\n",
    "# Create a PanedWindow\n",
    "paned_window = tk.PanedWindow(root, orient=tk.VERTICAL)\n",
    "paned_window.pack(expand=True, fill=tk.BOTH)\n",
    "\n",
    "# Create frames for the top and bottom partitions\n",
    "top_frame = tk.Frame(paned_window)\n",
    "bottom_frame = tk.Frame(paned_window)\n",
    "\n",
    "# Set the minimum size for the top and bottom partitions\n",
    "paned_window.add(top_frame, minsize=70)  # 70% for the top partition\n",
    "paned_window.add(bottom_frame, minsize=30)  # 30% for the bottom partition\n",
    "\n",
    "# Create a button in the top partition\n",
    "button = tk.Button(top_frame, text=\"Click me!\", command=button_click)\n",
    "button.pack(pady=10, padx=10)\n",
    "\n",
    "# Start the Tkinter event loop\n",
    "root.mainloop()\n"
   ]
  },
  {
   "cell_type": "code",
   "execution_count": 13,
   "id": "034ac98e",
   "metadata": {},
   "outputs": [
    {
     "name": "stdout",
     "output_type": "stream",
     "text": [
      "Button clicked!\n",
      "Button clicked!\n",
      "Button clicked!\n",
      "Button clicked!\n",
      "Button clicked!\n"
     ]
    }
   ],
   "source": [
    "import tkinter as tk\n",
    "\n",
    "def button_click():\n",
    "    print(\"Button clicked!\")\n",
    "    \n",
    "def button_click():\n",
    "    file_path = filedialog.askopenfilename(filetypes=[(\"Image files\", \"*.png;*.jpg;*.jpeg\")])\n",
    "    if file_path:\n",
    "        image = Image.open(file_path)\n",
    "        image = ImageTk.PhotoImage(image)\n",
    "        label1.config(image=image)\n",
    "        label1.image = image\n",
    "        \n",
    "\n",
    "# Create the main window\n",
    "root = tk.Tk()\n",
    "root.title(\"Nested Partitioned Tkinter GUI\")\n",
    "\n",
    "# Set the initial size of the window\n",
    "root.geometry(\"820x470\")\n",
    "\n",
    "# Disable resizing\n",
    "root.resizable(False, False)\n",
    "\n",
    "# Create a PanedWindow for the top-level horizontal partition\n",
    "top_paned = tk.PanedWindow(root, orient=tk.HORIZONTAL)\n",
    "top_paned.pack(expand=True, fill=tk.BOTH)\n",
    "\n",
    "# Create a PanedWindow for the left and right partitions in the top partition\n",
    "left_frame = tk.Frame(top_paned)\n",
    "right_frame = tk.Frame(top_paned)\n",
    "\n",
    "# Set the minimum size for the left and right partitions\n",
    "top_paned.add(left_frame, minsize=40)  # 40% for the left partition\n",
    "top_paned.add(right_frame, minsize=60)  # 60% for the right partition\n",
    "\n",
    "# Create four buttons in the left partition of the top partition\n",
    "button1 = tk.Button(left_frame, text=\"Button 1\", command=button_click)\n",
    "button2 = tk.Button(left_frame, text=\"Button 2\", command=button_click)\n",
    "button3 = tk.Button(left_frame, text=\"Button 3\", command=button_click)\n",
    "button4 = tk.Button(left_frame, text=\"Button 4\", command=button_click)\n",
    "\n",
    "# Pack the buttons in the left partition\n",
    "button1.pack(pady=5, padx=10)\n",
    "button2.pack(pady=5, padx=10)\n",
    "button3.pack(pady=5, padx=10)\n",
    "button4.pack(pady=5, padx=10)\n",
    "\n",
    "\n",
    "# Create a PanedWindow for the bottom partition\n",
    "bottom_frame = tk.Frame(root)\n",
    "\n",
    "# Set the minimum size for the bottom partition\n",
    "top_paned.add(bottom_frame, minsize=30)  # 30% for the bottom partition\n",
    "\n",
    "# Start the Tkinter event loop\n",
    "root.mainloop()\n"
   ]
  },
  {
   "cell_type": "code",
   "execution_count": null,
   "id": "720a965d",
   "metadata": {},
   "outputs": [],
   "source": []
  }
 ],
 "metadata": {
  "kernelspec": {
   "display_name": "Python 3 (ipykernel)",
   "language": "python",
   "name": "python3"
  },
  "language_info": {
   "codemirror_mode": {
    "name": "ipython",
    "version": 3
   },
   "file_extension": ".py",
   "mimetype": "text/x-python",
   "name": "python",
   "nbconvert_exporter": "python",
   "pygments_lexer": "ipython3",
   "version": "3.10.0"
  }
 },
 "nbformat": 4,
 "nbformat_minor": 5
}
