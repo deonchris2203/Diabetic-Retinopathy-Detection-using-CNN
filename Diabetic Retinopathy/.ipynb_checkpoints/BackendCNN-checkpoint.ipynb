{
 "cells": [
  {
   "cell_type": "code",
   "execution_count": 2,
   "id": "da9a6738",
   "metadata": {},
   "outputs": [],
   "source": [
    "import os\n",
    "import cv2\n",
    "import pandas as pd\n",
    "import numpy as np"
   ]
  },
  {
   "cell_type": "code",
   "execution_count": 1,
   "id": "ee319ece",
   "metadata": {},
   "outputs": [],
   "source": [
    "from sklearn.model_selection import train_test_split\n",
    "from sklearn.metrics import classification_report, confusion_matrix\n",
    "from tensorflow.keras.utils import to_categorical\n",
    "from tensorflow.keras.models import Sequential\n",
    "from tensorflow.keras.layers import Conv2D, MaxPooling2D, Flatten, Dense\n",
    "from tensorflow.keras.optimizers import Adam\n",
    "from tensorflow.keras.models import save_model\n",
    "from PIL import Image"
   ]
  },
  {
   "cell_type": "code",
   "execution_count": 3,
   "id": "4d5b9919",
   "metadata": {},
   "outputs": [
    {
     "name": "stdout",
     "output_type": "stream",
     "text": [
      "<class 'pandas.core.frame.DataFrame'>\n",
      "RangeIndex: 3662 entries, 0 to 3661\n",
      "Data columns (total 2 columns):\n",
      " #   Column     Non-Null Count  Dtype \n",
      "---  ------     --------------  ----- \n",
      " 0   id_code    3662 non-null   object\n",
      " 1   diagnosis  3662 non-null   int64 \n",
      "dtypes: int64(1), object(1)\n",
      "memory usage: 57.3+ KB\n"
     ]
    }
   ],
   "source": [
    "# Load labels from the CSV file\n",
    "labels_df = pd.read_csv('D:/School/Btech Project/archive/train.csv')\n",
    "labels_df.info()"
   ]
  },
  {
   "cell_type": "code",
   "execution_count": 4,
   "id": "53107b65",
   "metadata": {},
   "outputs": [],
   "source": [
    "# Define image dimensions\n",
    "image_height, image_width = 128, 128"
   ]
  },
  {
   "cell_type": "code",
   "execution_count": 5,
   "id": "8546083e",
   "metadata": {},
   "outputs": [],
   "source": [
    "# Initialize empty lists to store images and labels\n",
    "images = []\n",
    "labels = []"
   ]
  },
  {
   "cell_type": "code",
   "execution_count": 6,
   "id": "ff6d99f3",
   "metadata": {},
   "outputs": [],
   "source": [
    "# Path to the folder containing all images\n",
    "data_folder = 'D:/School/Btech Project/archive/colored_images/combined'"
   ]
  },
  {
   "cell_type": "code",
   "execution_count": 7,
   "id": "78284268",
   "metadata": {},
   "outputs": [],
   "source": [
    "#Load images and labels from the folder and CSV file\n",
    "for index, row in labels_df.iterrows():\n",
    "    image_name = row['id_code']  # Image name from CSV without extension\n",
    "    image_path = os.path.join(data_folder, f\"{image_name}.png\")  # Concatenate the file extension\n",
    "    \n",
    "    # Check if the image file exists\n",
    "    if not os.path.exists(image_path):\n",
    "        print(f\"Image file not found: {image_path}\")\n",
    "        continue\n",
    "    \n",
    "    img = cv2.imread(image_path)\n",
    "    img = cv2.resize(img, (image_width, image_height))\n",
    "    images.append(img)\n",
    "    labels.append(row['diagnosis'])\n"
   ]
  },
  {
   "cell_type": "code",
   "execution_count": 8,
   "id": "634879b6",
   "metadata": {},
   "outputs": [],
   "source": [
    "# Convert images and labels to numpy arrays\n",
    "images = np.array(images)\n",
    "labels = np.array(labels)"
   ]
  },
  {
   "cell_type": "code",
   "execution_count": 9,
   "id": "a24518ca",
   "metadata": {},
   "outputs": [
    {
     "name": "stdout",
     "output_type": "stream",
     "text": [
      "Number of images: 3662\n",
      "Number of labels: 3662\n"
     ]
    }
   ],
   "source": [
    "print(f\"Number of images: {len(images)}\")\n",
    "print(f\"Number of labels: {len(labels)}\")"
   ]
  },
  {
   "cell_type": "code",
   "execution_count": 10,
   "id": "25b19af4",
   "metadata": {},
   "outputs": [],
   "source": [
    "# Normalize images to [0, 1] range\n",
    "images = images / 255.0"
   ]
  },
  {
   "cell_type": "code",
   "execution_count": 11,
   "id": "7c7b190a",
   "metadata": {},
   "outputs": [],
   "source": [
    "# Convert labels to one-hot encoding\n",
    "num_classes = len(np.unique(labels))\n",
    "labels = to_categorical(labels, num_classes)"
   ]
  },
  {
   "cell_type": "code",
   "execution_count": 12,
   "id": "9ed85fa5",
   "metadata": {},
   "outputs": [],
   "source": [
    "# Split data into training and testing sets\n",
    "train_images, test_images, train_labels, test_labels = train_test_split(images, labels, test_size=0.2, random_state=42)"
   ]
  },
  {
   "cell_type": "code",
   "execution_count": 13,
   "id": "387e865d",
   "metadata": {},
   "outputs": [],
   "source": [
    "# Build the CNN model\n",
    "model = Sequential([\n",
    "    Conv2D(32, (3, 3), activation='relu', input_shape=(image_height, image_width, 3)),\n",
    "    MaxPooling2D((2, 2)),\n",
    "    Conv2D(64, (3, 3), activation='relu'),\n",
    "    MaxPooling2D((2, 2)),\n",
    "    Conv2D(128, (3, 3), activation='relu'),\n",
    "    MaxPooling2D((2, 2)),\n",
    "    Flatten(),\n",
    "    Dense(128, activation='relu'),\n",
    "    Dense(num_classes, activation='softmax')\n",
    "])"
   ]
  },
  {
   "cell_type": "code",
   "execution_count": 14,
   "id": "4a866b0f",
   "metadata": {},
   "outputs": [],
   "source": [
    "# Compile the model\n",
    "model.compile(optimizer=Adam(learning_rate=0.0001), loss='categorical_crossentropy', metrics=['accuracy'])"
   ]
  },
  {
   "cell_type": "code",
   "execution_count": null,
   "id": "73a5f241",
   "metadata": {},
   "outputs": [
    {
     "name": "stdout",
     "output_type": "stream",
     "text": [
      "Epoch 1/20\n",
      "83/83 [==============================] - 115s 1s/step - loss: 1.1285 - accuracy: 0.5983 - val_loss: 0.9018 - val_accuracy: 0.6724\n",
      "Epoch 2/20\n",
      "24/83 [=======>......................] - ETA: 1:05 - loss: 0.9230 - accuracy: 0.6719"
     ]
    },
    {
     "name": "stderr",
     "output_type": "stream",
     "text": [
      "ERROR:root:Internal Python error in the inspect module.\n",
      "Below is the traceback from this internal error.\n",
      "\n"
     ]
    },
    {
     "name": "stdout",
     "output_type": "stream",
     "text": [
      "Traceback (most recent call last):\n",
      "  File \"C:\\Users\\dfern\\AppData\\Local\\Programs\\Python\\Python310\\lib\\site-packages\\IPython\\core\\interactiveshell.py\", line 3444, in run_code\n",
      "    exec(code_obj, self.user_global_ns, self.user_ns)\n",
      "  File \"C:\\Users\\dfern\\AppData\\Local\\Temp/ipykernel_13744/2077396286.py\", line 2, in <module>\n",
      "    model.fit(train_images, train_labels, epochs=20, batch_size=32, validation_split=0.1)\n",
      "  File \"C:\\Users\\dfern\\AppData\\Roaming\\Python\\Python310\\site-packages\\keras\\src\\utils\\traceback_utils.py\", line 65, in error_handler\n",
      "    return fn(*args, **kwargs)\n",
      "  File \"C:\\Users\\dfern\\AppData\\Roaming\\Python\\Python310\\site-packages\\keras\\src\\engine\\training.py\", line 1742, in fit\n",
      "    tmp_logs = self.train_function(iterator)\n",
      "  File \"C:\\Users\\dfern\\AppData\\Roaming\\Python\\Python310\\site-packages\\tensorflow\\python\\util\\traceback_utils.py\", line 150, in error_handler\n",
      "    return fn(*args, **kwargs)\n",
      "  File \"C:\\Users\\dfern\\AppData\\Roaming\\Python\\Python310\\site-packages\\tensorflow\\python\\eager\\polymorphic_function\\polymorphic_function.py\", line 825, in __call__\n",
      "    result = self._call(*args, **kwds)\n",
      "  File \"C:\\Users\\dfern\\AppData\\Roaming\\Python\\Python310\\site-packages\\tensorflow\\python\\eager\\polymorphic_function\\polymorphic_function.py\", line 857, in _call\n",
      "    return self._no_variable_creation_fn(*args, **kwds)  # pylint: disable=not-callable\n",
      "  File \"C:\\Users\\dfern\\AppData\\Roaming\\Python\\Python310\\site-packages\\tensorflow\\python\\eager\\polymorphic_function\\tracing_compiler.py\", line 148, in __call__\n",
      "    return concrete_function._call_flat(\n",
      "  File \"C:\\Users\\dfern\\AppData\\Roaming\\Python\\Python310\\site-packages\\tensorflow\\python\\eager\\polymorphic_function\\monomorphic_function.py\", line 1349, in _call_flat\n",
      "    return self._build_call_outputs(self._inference_function(*args))\n",
      "  File \"C:\\Users\\dfern\\AppData\\Roaming\\Python\\Python310\\site-packages\\tensorflow\\python\\eager\\polymorphic_function\\atomic_function.py\", line 196, in __call__\n",
      "    outputs = self._bound_context.call_function(\n",
      "  File \"C:\\Users\\dfern\\AppData\\Roaming\\Python\\Python310\\site-packages\\tensorflow\\python\\eager\\context.py\", line 1457, in call_function\n",
      "    outputs = execute.execute(\n",
      "  File \"C:\\Users\\dfern\\AppData\\Roaming\\Python\\Python310\\site-packages\\tensorflow\\python\\eager\\execute.py\", line 53, in quick_execute\n",
      "    tensors = pywrap_tfe.TFE_Py_Execute(ctx._handle, device_name, op_name,\n",
      "KeyboardInterrupt\n",
      "\n",
      "During handling of the above exception, another exception occurred:\n",
      "\n",
      "Traceback (most recent call last):\n",
      "  File \"C:\\Users\\dfern\\AppData\\Local\\Programs\\Python\\Python310\\lib\\site-packages\\IPython\\core\\interactiveshell.py\", line 2064, in showtraceback\n",
      "    stb = value._render_traceback_()\n",
      "AttributeError: 'KeyboardInterrupt' object has no attribute '_render_traceback_'\n",
      "\n",
      "During handling of the above exception, another exception occurred:\n",
      "\n",
      "Traceback (most recent call last):\n",
      "  File \"C:\\Users\\dfern\\AppData\\Local\\Programs\\Python\\Python310\\lib\\site-packages\\IPython\\core\\ultratb.py\", line 1101, in get_records\n",
      "    return _fixed_getinnerframes(etb, number_of_lines_of_context, tb_offset)\n",
      "  File \"C:\\Users\\dfern\\AppData\\Local\\Programs\\Python\\Python310\\lib\\site-packages\\IPython\\core\\ultratb.py\", line 248, in wrapped\n",
      "    return f(*args, **kwargs)\n",
      "  File \"C:\\Users\\dfern\\AppData\\Local\\Programs\\Python\\Python310\\lib\\site-packages\\IPython\\core\\ultratb.py\", line 281, in _fixed_getinnerframes\n",
      "    records = fix_frame_records_filenames(inspect.getinnerframes(etb, context))\n",
      "  File \"C:\\Users\\dfern\\AppData\\Local\\Programs\\Python\\Python310\\lib\\inspect.py\", line 1665, in getinnerframes\n",
      "    frameinfo = (tb.tb_frame,) + getframeinfo(tb, context)\n",
      "  File \"C:\\Users\\dfern\\AppData\\Local\\Programs\\Python\\Python310\\lib\\inspect.py\", line 1623, in getframeinfo\n",
      "    filename = getsourcefile(frame) or getfile(frame)\n",
      "  File \"C:\\Users\\dfern\\AppData\\Local\\Programs\\Python\\Python310\\lib\\inspect.py\", line 829, in getsourcefile\n",
      "    module = getmodule(object, filename)\n",
      "  File \"C:\\Users\\dfern\\AppData\\Local\\Programs\\Python\\Python310\\lib\\inspect.py\", line 875, in getmodule\n",
      "    f = getabsfile(module)\n",
      "  File \"C:\\Users\\dfern\\AppData\\Local\\Programs\\Python\\Python310\\lib\\inspect.py\", line 844, in getabsfile\n",
      "    _filename = getsourcefile(object) or getfile(object)\n",
      "  File \"C:\\Users\\dfern\\AppData\\Local\\Programs\\Python\\Python310\\lib\\inspect.py\", line 826, in getsourcefile\n",
      "    if os.path.exists(filename):\n",
      "  File \"C:\\Users\\dfern\\AppData\\Local\\Programs\\Python\\Python310\\lib\\genericpath.py\", line 19, in exists\n",
      "    os.stat(path)\n",
      "KeyboardInterrupt\n"
     ]
    }
   ],
   "source": [
    "# Train the model\n",
    "model.fit(train_images, train_labels, epochs=20, batch_size=32, validation_split=0.1)"
   ]
  },
  {
   "cell_type": "code",
   "execution_count": 18,
   "id": "d60c577f",
   "metadata": {},
   "outputs": [
    {
     "name": "stdout",
     "output_type": "stream",
     "text": [
      "23/23 [==============================] - 2s 87ms/step - loss: 0.7130 - accuracy: 0.7462\n",
      "Test accuracy: 0.7462483048439026\n"
     ]
    }
   ],
   "source": [
    "# Evaluate the model on the test data\n",
    "test_loss, test_accuracy = model.evaluate(test_images, test_labels)\n",
    "print(f'Test accuracy: {test_accuracy}')"
   ]
  },
  {
   "cell_type": "code",
   "execution_count": 21,
   "id": "2b870b3d",
   "metadata": {},
   "outputs": [],
   "source": [
    "# After training your model\n",
    "model.save('D:/School/Btech Project/archive/colored_images/model/model.h5')"
   ]
  },
  {
   "cell_type": "code",
   "execution_count": 22,
   "id": "5c26ef7a",
   "metadata": {},
   "outputs": [],
   "source": [
    "# Define the target size (should match the input size of your model)\n",
    "target_size = (128, 128)"
   ]
  },
  {
   "cell_type": "code",
   "execution_count": 1,
   "id": "41e6a5c0",
   "metadata": {},
   "outputs": [],
   "source": [
    "##\n",
    "#Trying RNN"
   ]
  },
  {
   "cell_type": "code",
   "execution_count": null,
   "id": "8c7d6275",
   "metadata": {},
   "outputs": [],
   "source": []
  }
 ],
 "metadata": {
  "kernelspec": {
   "display_name": "Python 3 (ipykernel)",
   "language": "python",
   "name": "python3"
  },
  "language_info": {
   "codemirror_mode": {
    "name": "ipython",
    "version": 3
   },
   "file_extension": ".py",
   "mimetype": "text/x-python",
   "name": "python",
   "nbconvert_exporter": "python",
   "pygments_lexer": "ipython3",
   "version": "3.10.0"
  }
 },
 "nbformat": 4,
 "nbformat_minor": 5
}
